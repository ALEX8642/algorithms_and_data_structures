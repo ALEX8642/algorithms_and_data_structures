{
 "cells": [
  {
   "cell_type": "markdown",
   "metadata": {},
   "source": [
    "# Practice Interview\n",
    "\n",
    "## Objective\n",
    "\n",
    "_*The partner assignment aims to provide participants with the opportunity to practice coding in an interview context. You will analyze your partner's Assignment 1. Moreover, code reviews are common practice in a software development team. This assignment should give you a taste of the code review process.*_\n",
    "\n",
    "## Group Size\n",
    "\n",
    "Each group should have 2 people. You will be assigned a partner\n",
    "\n",
    "## Part 1:\n",
    "\n",
    "You and your partner must share each other's Assignment 1 submission."
   ]
  },
  {
   "cell_type": "markdown",
   "metadata": {},
   "source": [
    "\n",
    "## Part 2:\n",
    "\n",
    "Create a Jupyter Notebook, create 6 of the following headings, and complete the following for your partner's assignment 1:\n",
    "\n",
    "-   Paraphrase the problem in your own words.\n"
   ]
  },
  {
   "cell_type": "code",
   "execution_count": 4,
   "metadata": {},
   "outputs": [
    {
     "data": {
      "text/plain": [
       "'\\nThe goal of the problem is to determine which numbers are missing from \\na given list that contains integers in the range [0, n], where n is the \\nlength of the list. If no numbers are missing, the function should return -1. \\nImportantly, the list may contain duplicate values, and we need to identify \\nall the numbers within the range [0, n] that are not present in the list.\\n'"
      ]
     },
     "execution_count": 4,
     "metadata": {},
     "output_type": "execute_result"
    }
   ],
   "source": [
    "\"\"\"\n",
    "The goal of the problem is to determine which numbers are missing from \n",
    "a given list that contains integers in the range [0, n], where n is the \n",
    "length of the list. If no numbers are missing, the function should return -1. \n",
    "Importantly, the list may contain duplicate values, and we need to identify \n",
    "all the numbers within the range [0, n] that are not present in the list.\n",
    "\"\"\""
   ]
  },
  {
   "cell_type": "markdown",
   "metadata": {},
   "source": [
    "\n",
    "-   Create 1 new example that demonstrates you understand the problem. Trace/walkthrough 1 example that your partner made and explain it.\n"
   ]
  },
  {
   "cell_type": "code",
   "execution_count": 5,
   "metadata": {},
   "outputs": [
    {
     "data": {
      "text/plain": [
       "'\\nNew Example: \\nConsider a list represented as follows:\\nInput: lst = [3, 0, 1, 1]\\nOutput: [2, 4]\\nIn this case, the list contains integers in the range [0, 4]. \\nThe numbers 2 and 4 are missing from the list, \\nso they are returned in the output.\\n\\nWalkthrough of Partner Example:\\nInput: lst = [0, 1, 2, 5, 7]\\nOutput: [3, 4, 6]\\nExplanation: The list contains integers in the range [0, 7]. \\nThe numbers 3, 4, and 6 are missing from the list, \\nso they are returned in the output.\\n'"
      ]
     },
     "execution_count": 5,
     "metadata": {},
     "output_type": "execute_result"
    }
   ],
   "source": [
    "\"\"\"\n",
    "New Example: \n",
    "Consider a list represented as follows:\n",
    "Input: lst = [3, 0, 1, 1]\n",
    "Output: [2, 4]\n",
    "In this case, the list contains integers in the range [0, 4]. \n",
    "The numbers 2 and 4 are missing from the list, \n",
    "so they are returned in the output.\n",
    "\n",
    "Walkthrough of Partner Example:\n",
    "Input: lst = [0, 1, 2, 5, 7]\n",
    "Output: [3, 4, 6]\n",
    "Explanation: The list contains integers in the range [0, 7]. \n",
    "The numbers 3, 4, and 6 are missing from the list, \n",
    "so they are returned in the output.\n",
    "\"\"\""
   ]
  },
  {
   "cell_type": "markdown",
   "metadata": {},
   "source": [
    "\n",
    "-   Copy the solution your partner wrote. \n"
   ]
  },
  {
   "cell_type": "code",
   "execution_count": 6,
   "metadata": {},
   "outputs": [
    {
     "name": "stdout",
     "output_type": "stream",
     "text": [
      "[3, 4, 6]\n",
      "[3, 4, 6, 8, 9]\n"
     ]
    }
   ],
   "source": [
    "from typing import List\n",
    "\n",
    "def missing_num(nums: List[int]) -> List[int]:\n",
    "    # Determine the range from 0 to the max number in nums\n",
    "    n = max(nums)\n",
    "    # Create a set of all numbers from 0 to n\n",
    "    full_set = set(range(n + 1))\n",
    "    # Create a set of numbers present in the input list\n",
    "    num_set = set(nums)\n",
    "    # Find missing numbers by subtracting num_set from full_set\n",
    "    missing_numbers = list(full_set - num_set)\n",
    "    # Sort the missing numbers to maintain order\n",
    "    missing_numbers.sort()\n",
    "    # Return the missing numbers or -1 if none are missing\n",
    "    return missing_numbers if missing_numbers else -1\n",
    "\n",
    "# Test examples\n",
    "# Example: Input [0, 1, 2, 5, 7]\n",
    "print(missing_num([0, 1, 2, 5, 7]))  # Expected Output: [3, 4, 6]\n",
    "\n",
    "# Example: Input [0, 1, 2, 5, 7, 10]\n",
    "print(missing_num([0, 1, 2, 5, 7, 10]))  # Expected Output: [3, 4, 6, 8, 9]\n",
    "# Your answer here"
   ]
  },
  {
   "cell_type": "markdown",
   "metadata": {},
   "source": [
    "\n",
    "-   Explain why their solution works in your own words.\n"
   ]
  },
  {
   "cell_type": "code",
   "execution_count": 7,
   "metadata": {},
   "outputs": [
    {
     "data": {
      "text/plain": [
       "\"\\nThe partner solution uses a set-based approach to identify the missing numbers. \\nHere's how it works:\\nFirst, the maximum value in the list lst is determined and stored in the variable n. \\nThis gives the upper bound of the range that we need to consider.\\n\\nA set named full_set is created containing all the numbers from 0 to n inclusively. \\nThis represents the complete range of numbers that should be present in the list.\\n\\nAnother set named lst_set is created from the given list lst, which contains all the \\nunique values present in the list.\\n\\nThe difference between full_set and lst_set is checked to determine which \\nnumbers are missing, and this difference is stored in missing_numbers.\\n\\nIf there are no missing numbers, the function returns -1. \\nOtherwise, the missing numbers are returned in a sorted list.\\n\""
      ]
     },
     "execution_count": 7,
     "metadata": {},
     "output_type": "execute_result"
    }
   ],
   "source": [
    "\"\"\"\n",
    "The partner solution uses a set-based approach to identify the missing numbers. \n",
    "Here's how it works:\n",
    "First, the maximum value in the list lst is determined and stored in the variable n. \n",
    "This gives the upper bound of the range that we need to consider.\n",
    "\n",
    "A set named full_set is created containing all the numbers from 0 to n inclusively. \n",
    "This represents the complete range of numbers that should be present in the list.\n",
    "\n",
    "Another set named lst_set is created from the given list lst, which contains all the \n",
    "unique values present in the list.\n",
    "\n",
    "The difference between full_set and lst_set is checked to determine which \n",
    "numbers are missing, and this difference is stored in missing_numbers.\n",
    "\n",
    "If there are no missing numbers, the function returns -1. \n",
    "Otherwise, the missing numbers are returned in a sorted list.\n",
    "\"\"\""
   ]
  },
  {
   "cell_type": "markdown",
   "metadata": {},
   "source": [
    "\n",
    "-   Explain the problem’s time and space complexity in your own words.\n"
   ]
  },
  {
   "cell_type": "code",
   "execution_count": 8,
   "metadata": {},
   "outputs": [
    {
     "data": {
      "text/plain": [
       "'\\nTime Complexity: The time complexity of the solution is O(n), \\nwhere N is the maximum value in the list. This is because the set \\noperations (creation of full_set and lst_set, and the set difference) \\nare linear in complexity with respect to the size of the range [0, n].\\n\\nSpace Complexity: The space complexity is also O(n) due to the additional \\nspace used for storing full_set, lst_set, and missing_numbers. \\nEach of these sets can contain up to n + 1 elements.\\n'"
      ]
     },
     "execution_count": 8,
     "metadata": {},
     "output_type": "execute_result"
    }
   ],
   "source": [
    "\"\"\"\n",
    "Time Complexity: The time complexity of the solution is O(n), \n",
    "where N is the maximum value in the list. This is because the set \n",
    "operations (creation of full_set and lst_set, and the set difference) \n",
    "are linear in complexity with respect to the size of the range [0, n].\n",
    "\n",
    "Space Complexity: The space complexity is also O(n) due to the additional \n",
    "space used for storing full_set, lst_set, and missing_numbers. \n",
    "Each of these sets can contain up to n + 1 elements.\n",
    "\"\"\""
   ]
  },
  {
   "cell_type": "markdown",
   "metadata": {},
   "source": [
    "\n",
    "-   Critique your partner's solution, including explanation, and if there is anything that should be adjusted.\n"
   ]
  },
  {
   "cell_type": "code",
   "execution_count": 9,
   "metadata": {},
   "outputs": [
    {
     "data": {
      "text/plain": [
       "'\\nThe solution is efficient and leverages set operations effectively \\nto determine the missing numbers.\\n\\nOne potential improvement could be to avoid the use of sets \\nand instead use a boolean array (more memory efficient, \\ndespite still being O(n) in space complexity) \\n...or a counter-based approach to reduce space usage, \\nespecially for large lists where the \\nrange [0, n] is very large.\\n'"
      ]
     },
     "execution_count": 9,
     "metadata": {},
     "output_type": "execute_result"
    }
   ],
   "source": [
    "\"\"\"\n",
    "The solution is efficient and leverages set operations effectively \n",
    "to determine the missing numbers.\n",
    "\n",
    "One potential improvement could be to avoid the use of sets \n",
    "and instead use a boolean array (more memory efficient, \n",
    "despite still being O(n) in space complexity) \n",
    "...or a counter-based approach to reduce space usage, \n",
    "especially for large lists where the \n",
    "range [0, n] is very large.\n",
    "\"\"\""
   ]
  },
  {
   "cell_type": "markdown",
   "metadata": {},
   "source": [
    "\n",
    "## Part 3:\n",
    "\n",
    "Please write a 200 word reflection documenting your process from assignment 1, and your presentation and review experience with your partner at the bottom of the Jupyter Notebook under a new heading \"Reflection.\" Again, export this Notebook as pdf.\n"
   ]
  },
  {
   "cell_type": "markdown",
   "metadata": {},
   "source": [
    "### Reflection"
   ]
  },
  {
   "cell_type": "code",
   "execution_count": 10,
   "metadata": {},
   "outputs": [
    {
     "data": {
      "text/plain": [
       "\"\\nReflection on Assignment 1\\n\\nWorking on this module was a valuable learning experience involving data structures \\nand algorithms. My assigned problem was to determine whether a binary tree contains \\nduplicate values, and if so, to identify the one closest to the root. \\nInitially, I felt challenged, particularly in deciding the correct traversal strategy \\nto efficiently locate duplicates. I found myself deciding between Depth-First Search (DFS) \\nand Breadth-First Search (BFS). I ultimately chose a breadth-first approach, \\nwhich allowed me to ensure I found the closest duplicate efficiently.\\n\\nAs best practices tell me to do when coding, the process led me to consider \\nadding capability of processing edge cases, such as trees with only one node \\nor those with multiple levels but no duplicates. It was rewarding to see my \\nunderstanding deepen as I tried different solutions and optimized the code.\\n\\nReflection on Partner's Assignment Review\\nReviewing my partner's assignment was a constructive experience. \\nIt gave me a chance to practice code review, which is a key aspect of collaborative \\nsoftware development. I appreciated the opportunity to understand someone else's \\napproach to solving a similar problem, and it made me realize the variety of methods \\none can employ to solve algorithmic challenges. My partner used a set-based approach \\nto find missing numbers, which was effective. Due to the potential memory overhead \\nwhen dealing with large datasets, there was an improvement opportunity for scalability. \\nThis prompted me to think of alternatives such as boolean arrays, which could achieve \\nthe same outcome with reduced memory usage. This review process solidified my confidence \\nin understanding the problem but also exercised a skill we have not used yet; the ability \\nto communicate constructive feedback clearly to another professional.\\n\""
      ]
     },
     "execution_count": 10,
     "metadata": {},
     "output_type": "execute_result"
    }
   ],
   "source": [
    "\"\"\"\n",
    "Reflection on Assignment 1\n",
    "\n",
    "Working on this module was a valuable learning experience involving data structures \n",
    "and algorithms. My assigned problem was to determine whether a binary tree contains \n",
    "duplicate values, and if so, to identify the one closest to the root. \n",
    "Initially, I felt challenged, particularly in deciding the correct traversal strategy \n",
    "to efficiently locate duplicates. I found myself deciding between Depth-First Search (DFS) \n",
    "and Breadth-First Search (BFS). I ultimately chose a breadth-first approach, \n",
    "which allowed me to ensure I found the closest duplicate efficiently.\n",
    "\n",
    "As best practices tell me to do when coding, the process led me to consider \n",
    "adding capability of processing edge cases, such as trees with only one node \n",
    "or those with multiple levels but no duplicates. It was rewarding to see my \n",
    "understanding deepen as I tried different solutions and optimized the code.\n",
    "\n",
    "Reflection on Partner's Assignment Review\n",
    "Reviewing my partner's assignment was a constructive experience. \n",
    "It gave me a chance to practice code review, which is a key aspect of collaborative \n",
    "software development. I appreciated the opportunity to understand someone else's \n",
    "approach to solving a similar problem, and it made me realize the variety of methods \n",
    "one can employ to solve algorithmic challenges. My partner used a set-based approach \n",
    "to find missing numbers, which was effective. Due to the potential memory overhead \n",
    "when dealing with large datasets, there was an improvement opportunity for scalability. \n",
    "This prompted me to think of alternatives such as boolean arrays, which could achieve \n",
    "the same outcome with reduced memory usage. This review process solidified my confidence \n",
    "in understanding the problem but also exercised a skill we have not used yet; the ability \n",
    "to communicate constructive feedback clearly to another professional.\n",
    "\"\"\""
   ]
  },
  {
   "cell_type": "markdown",
   "metadata": {},
   "source": [
    "\n",
    "## Evaluation Criteria\n",
    "\n",
    "We are looking for the similar points as Assignment 1\n",
    "\n",
    "-   Problem is accurately stated\n",
    "\n",
    "-   New example is correct and easily understandable\n",
    "\n",
    "-   Correctness, time, and space complexity of the coding solution\n",
    "\n",
    "-   Clarity in explaining why the solution works, its time and space complexity\n",
    "\n",
    "-   Quality of critique of your partner's assignment, if necessary\n"
   ]
  },
  {
   "cell_type": "markdown",
   "metadata": {},
   "source": [
    "## Submission Information\n",
    "\n",
    "🚨 **Please review our [Assignment Submission Guide](https://github.com/UofT-DSI/onboarding/blob/main/onboarding_documents/submissions.md)** 🚨 for detailed instructions on how to format, branch, and submit your work. Following these guidelines is crucial for your submissions to be evaluated correctly.\n",
    "\n",
    "### Submission Parameters:\n",
    "* Submission Due Date: `HH:MM AM/PM - DD/MM/YYYY`\n",
    "* The branch name for your repo should be: `assignment-2`\n",
    "* What to submit for this assignment:\n",
    "    * This Jupyter Notebook (assignment_2.ipynb) should be populated and should be the only change in your pull request.\n",
    "* What the pull request link should look like for this assignment: `https://github.com/<your_github_username>/algorithms_and_data_structures/pull/<pr_id>`\n",
    "    * Open a private window in your browser. Copy and paste the link to your pull request into the address bar. Make sure you can see your pull request properly. This helps the technical facilitator and learning support staff review your submission easily.\n",
    "\n",
    "Checklist:\n",
    "- [ ] Created a branch with the correct naming convention.\n",
    "- [ ] Ensured that the repository is public.\n",
    "- [ ] Reviewed the PR description guidelines and adhered to them.\n",
    "- [ ] Verify that the link is accessible in a private browser window.\n",
    "\n",
    "If you encounter any difficulties or have questions, please don't hesitate to reach out to our team via our Slack at `#cohort-3-help`. Our Technical Facilitators and Learning Support staff are here to help you navigate any challenges.\n"
   ]
  }
 ],
 "metadata": {
  "kernelspec": {
   "display_name": "dsi_participant",
   "language": "python",
   "name": "python3"
  },
  "language_info": {
   "codemirror_mode": {
    "name": "ipython",
    "version": 3
   },
   "file_extension": ".py",
   "mimetype": "text/x-python",
   "name": "python",
   "nbconvert_exporter": "python",
   "pygments_lexer": "ipython3",
   "version": "3.9.18"
  }
 },
 "nbformat": 4,
 "nbformat_minor": 2
}
